{
 "cells": [
  {
   "cell_type": "code",
   "execution_count": null,
   "id": "initial_id",
   "metadata": {
    "collapsed": true
   },
   "outputs": [],
   "source": "##模型分类"
  },
  {
   "metadata": {},
   "cell_type": "markdown",
   "source": "SparkDesk-v3.5",
   "id": "7086e2c91d7b1745"
  },
  {
   "metadata": {},
   "cell_type": "markdown",
   "source": "",
   "id": "4d2ced729e209720"
  },
  {
   "metadata": {
    "ExecuteTime": {
     "end_time": "2025-04-06T03:00:53.657868Z",
     "start_time": "2025-04-06T03:00:52.743589Z"
    }
   },
   "cell_type": "code",
   "source": [
    "import requests\n",
    "\n",
    "def login(username, password):\n",
    "    url = \"https://example.com/login\"\n",
    "    payload = {\n",
    "        'username': username,\n",
    "        'password': password\n",
    "    }\n",
    "    response = requests.post(url, data=payload)\n",
    "    if response.status_code == 200:\n",
    "        print(\"登录成功\")\n",
    "    else:\n",
    "        print(\"登录失败\")\n",
    "\n",
    "# 请替换为实际的用户名和密码\n",
    "login('your_username', 'your_password')"
   ],
   "id": "85eef52a9a1a8a15",
   "outputs": [
    {
     "name": "stdout",
     "output_type": "stream",
     "text": [
      "登录失败\n"
     ]
    }
   ],
   "execution_count": 1
  },
  {
   "metadata": {
    "ExecuteTime": {
     "end_time": "2025-04-06T03:01:45.945459Z",
     "start_time": "2025-04-06T03:01:45.929494Z"
    }
   },
   "cell_type": "code",
   "source": [
    "import requests\n",
    "import json\n",
    "\n",
    "class LoginStrategy:\n",
    "    def login(self, config, credentials):\n",
    "        raise NotImplementedError(\"子类必须实现 login 方法\")\n",
    "\n",
    "class WechatLogin(LoginStrategy):\n",
    "    def login(self, config, credentials):\n",
    "        app_id = config['app_id']\n",
    "        app_secret = config['app_secret']\n",
    "        code = credentials['code']\n",
    "        url = \"https://api.weixin.qq.com/sns/oauth2/access_token\"\n",
    "        params = {\n",
    "            'appid': app_id,\n",
    "            'secret': app_secret,\n",
    "            'code': code,\n",
    "            'grant_type': 'authorization_code'\n",
    "        }\n",
    "        response = requests.get(url, params=params)\n",
    "        if response.status_code == 200:\n",
    "            access_token = response.json().get('access_token')\n",
    "            if access_token:\n",
    "                print(\"微信登录成功\")\n",
    "                return access_token\n",
    "            else:\n",
    "                print(\"获取访问令牌失败\")\n",
    "        else:\n",
    "            print(\"微信登录失败\")\n",
    "        return None\n",
    "\n",
    "class AlipayLogin(LoginStrategy):\n",
    "    def login(self, config, credentials):\n",
    "        from alipay import AliPay\n",
    "\n",
    "        app_id = config['app_id']\n",
    "        app_private_key = config['app_private_key']\n",
    "        alipay_public_key = config['alipay_public_key']\n",
    "        auth_code = credentials['auth_code']\n",
    "\n",
    "        alipay = AliPay(\n",
    "            appid=app_id,\n",
    "            app_notify_url=None,\n",
    "            app_private_key_string=app_private_key,\n",
    "            alipay_public_key_string=alipay_public_key,\n",
    "            sign_type=\"RSA2\",\n",
    "            debug=False\n",
    "        )\n",
    "        try:\n",
    "            response = alipay.api_alipay_user_info_share(auth_code=auth_code)\n",
    "            if response:\n",
    "                print(\"支付宝登录成功\")\n",
    "                return response\n",
    "            else:\n",
    "                print(\"支付宝登录失败\")\n",
    "        except Exception as e:\n",
    "            print(f\"支付宝登录失败: {e}\")\n",
    "        return None\n",
    "\n",
    "class GoogleLogin(LoginStrategy):\n",
    "    def login(self, config, credentials):\n",
    "        client_id = config['client_id']\n",
    "        client_secret = config['client_secret']\n",
    "        code = credentials['code']\n",
    "        redirect_uri = config['redirect_uri']\n",
    "        url = \"https://oauth2.googleapis.com/token\"\n",
    "        payload = {\n",
    "            'client_id': client_id,\n",
    "            'client_secret': client_secret,\n",
    "            'code': code,\n",
    "            'grant_type': 'authorization_code',\n",
    "            'redirect_uri': redirect_uri\n",
    "        }\n",
    "        response = requests.post(url, data=payload)\n",
    "        if response.status_code == 200:\n",
    "            access_token = response.json().get('access_token')\n",
    "            if access_token:\n",
    "                print(\"Google登录成功\")\n",
    "                return access_token\n",
    "            else:\n",
    "                print(\"获取访问令牌失败\")\n",
    "        else:\n",
    "            print(\"Google登录失败\")\n",
    "        return None\n",
    "\n",
    "def load_config(file_path):\n",
    "    with open(file_path, 'r') as file:\n",
    "        return json.load(file)\n",
    "\n",
    "def get_login_strategy(platform, config, credentials):\n",
    "    if platform == 'wechat':\n",
    "        return WechatLogin()\n",
    "    elif platform == 'alipay':\n",
    "        return AlipayLogin()\n",
    "    elif platform == 'google':\n",
    "        return GoogleLogin()\n",
    "    else:\n",
    "        raise ValueError(\"不支持的平台\")\n",
    "\n",
    "# 请替换为实际的配置文件路径和凭据\n",
    "config_file_path = 'path_to_config.json'\n",
    "credentials = {\n",
    "    'code': 'your_code',\n",
    "    'auth_code': 'your_auth_code'\n",
    "}\n",
    "\n",
    "config = load_config(config_file_path)\n",
    "platform = 'wechat'  # 请根据需要替换为 'alipay' 或 'google'\n",
    "\n",
    "strategy = get_login_strategy(platform, config, credentials)\n",
    "result = strategy.login(config[platform], credentials)"
   ],
   "id": "c7409e551168cbc1",
   "outputs": [
    {
     "ename": "FileNotFoundError",
     "evalue": "[Errno 2] No such file or directory: 'path_to_config.json'",
     "output_type": "error",
     "traceback": [
      "\u001B[0;31m---------------------------------------------------------------------------\u001B[0m",
      "\u001B[0;31mFileNotFoundError\u001B[0m                         Traceback (most recent call last)",
      "Cell \u001B[0;32mIn[3], line 107\u001B[0m\n\u001B[1;32m    101\u001B[0m config_file_path \u001B[38;5;241m=\u001B[39m \u001B[38;5;124m'\u001B[39m\u001B[38;5;124mpath_to_config.json\u001B[39m\u001B[38;5;124m'\u001B[39m\n\u001B[1;32m    102\u001B[0m credentials \u001B[38;5;241m=\u001B[39m {\n\u001B[1;32m    103\u001B[0m     \u001B[38;5;124m'\u001B[39m\u001B[38;5;124mcode\u001B[39m\u001B[38;5;124m'\u001B[39m: \u001B[38;5;124m'\u001B[39m\u001B[38;5;124myour_code\u001B[39m\u001B[38;5;124m'\u001B[39m,\n\u001B[1;32m    104\u001B[0m     \u001B[38;5;124m'\u001B[39m\u001B[38;5;124mauth_code\u001B[39m\u001B[38;5;124m'\u001B[39m: \u001B[38;5;124m'\u001B[39m\u001B[38;5;124myour_auth_code\u001B[39m\u001B[38;5;124m'\u001B[39m\n\u001B[1;32m    105\u001B[0m }\n\u001B[0;32m--> 107\u001B[0m config \u001B[38;5;241m=\u001B[39m \u001B[43mload_config\u001B[49m\u001B[43m(\u001B[49m\u001B[43mconfig_file_path\u001B[49m\u001B[43m)\u001B[49m\n\u001B[1;32m    108\u001B[0m platform \u001B[38;5;241m=\u001B[39m \u001B[38;5;124m'\u001B[39m\u001B[38;5;124mwechat\u001B[39m\u001B[38;5;124m'\u001B[39m  \u001B[38;5;66;03m# 请根据需要替换为 'alipay' 或 'google'\u001B[39;00m\n\u001B[1;32m    110\u001B[0m strategy \u001B[38;5;241m=\u001B[39m get_login_strategy(platform, config, credentials)\n",
      "Cell \u001B[0;32mIn[3], line 87\u001B[0m, in \u001B[0;36mload_config\u001B[0;34m(file_path)\u001B[0m\n\u001B[1;32m     86\u001B[0m \u001B[38;5;28;01mdef\u001B[39;00m\u001B[38;5;250m \u001B[39m\u001B[38;5;21mload_config\u001B[39m(file_path):\n\u001B[0;32m---> 87\u001B[0m     \u001B[38;5;28;01mwith\u001B[39;00m \u001B[38;5;28;43mopen\u001B[39;49m\u001B[43m(\u001B[49m\u001B[43mfile_path\u001B[49m\u001B[43m,\u001B[49m\u001B[43m \u001B[49m\u001B[38;5;124;43m'\u001B[39;49m\u001B[38;5;124;43mr\u001B[39;49m\u001B[38;5;124;43m'\u001B[39;49m\u001B[43m)\u001B[49m \u001B[38;5;28;01mas\u001B[39;00m file:\n\u001B[1;32m     88\u001B[0m         \u001B[38;5;28;01mreturn\u001B[39;00m json\u001B[38;5;241m.\u001B[39mload(file)\n",
      "File \u001B[0;32m/Library/Frameworks/Python.framework/Versions/3.13/lib/python3.13/site-packages/IPython/core/interactiveshell.py:284\u001B[0m, in \u001B[0;36m_modified_open\u001B[0;34m(file, *args, **kwargs)\u001B[0m\n\u001B[1;32m    277\u001B[0m \u001B[38;5;28;01mif\u001B[39;00m file \u001B[38;5;129;01min\u001B[39;00m {\u001B[38;5;241m0\u001B[39m, \u001B[38;5;241m1\u001B[39m, \u001B[38;5;241m2\u001B[39m}:\n\u001B[1;32m    278\u001B[0m     \u001B[38;5;28;01mraise\u001B[39;00m \u001B[38;5;167;01mValueError\u001B[39;00m(\n\u001B[1;32m    279\u001B[0m         \u001B[38;5;124mf\u001B[39m\u001B[38;5;124m\"\u001B[39m\u001B[38;5;124mIPython won\u001B[39m\u001B[38;5;124m'\u001B[39m\u001B[38;5;124mt let you open fd=\u001B[39m\u001B[38;5;132;01m{\u001B[39;00mfile\u001B[38;5;132;01m}\u001B[39;00m\u001B[38;5;124m by default \u001B[39m\u001B[38;5;124m\"\u001B[39m\n\u001B[1;32m    280\u001B[0m         \u001B[38;5;124m\"\u001B[39m\u001B[38;5;124mas it is likely to crash IPython. If you know what you are doing, \u001B[39m\u001B[38;5;124m\"\u001B[39m\n\u001B[1;32m    281\u001B[0m         \u001B[38;5;124m\"\u001B[39m\u001B[38;5;124myou can use builtins\u001B[39m\u001B[38;5;124m'\u001B[39m\u001B[38;5;124m open.\u001B[39m\u001B[38;5;124m\"\u001B[39m\n\u001B[1;32m    282\u001B[0m     )\n\u001B[0;32m--> 284\u001B[0m \u001B[38;5;28;01mreturn\u001B[39;00m \u001B[43mio_open\u001B[49m\u001B[43m(\u001B[49m\u001B[43mfile\u001B[49m\u001B[43m,\u001B[49m\u001B[43m \u001B[49m\u001B[38;5;241;43m*\u001B[39;49m\u001B[43margs\u001B[49m\u001B[43m,\u001B[49m\u001B[43m \u001B[49m\u001B[38;5;241;43m*\u001B[39;49m\u001B[38;5;241;43m*\u001B[39;49m\u001B[43mkwargs\u001B[49m\u001B[43m)\u001B[49m\n",
      "\u001B[0;31mFileNotFoundError\u001B[0m: [Errno 2] No such file or directory: 'path_to_config.json'"
     ]
    }
   ],
   "execution_count": 3
  },
  {
   "metadata": {
    "ExecuteTime": {
     "end_time": "2025-04-06T03:08:59.455133Z",
     "start_time": "2025-04-06T03:08:59.421061Z"
    }
   },
   "cell_type": "code",
   "source": [
    "from app.agents.lib.llm.llm import LLMFactory\n",
    "llm = LLMFactory.getDefaultOPENAI()\n",
    "print(llm)\n",
    "from langchain_core.output_parsers import StrOutputParser\n",
    "from langchain_core.prompts import PromptTemplate\n",
    "from langchain.tools import StructuredTool\n",
    "from langchain.agents import create_react_agent\n",
    "\n",
    "def getUserWeaher():\n",
    "    print(22)\n",
    "\n",
    "tools = [getUserWeaher]\n",
    "\n",
    "temp = \"\"\"\n",
    "【角色】 你是一个情感大师 需要理解用户的输入 并且以俏皮的方式回复用户 给用户一个美好的感受\n",
    " 用户输入:{query}\n",
    "\"\"\"\n",
    "\n",
    "p = PromptTemplate.from_template(\n",
    "    temp\n",
    ")\n",
    "\n",
    "grap = create_react_agent(llm,prompt=p)\n",
    "res = grap.invoke({\"query\":\"你好 肚子疼\"})\n",
    "print(res)"
   ],
   "id": "85f6dff53eb128e",
   "outputs": [
    {
     "name": "stdout",
     "output_type": "stream",
     "text": [
      "OPENAI_BASE_URL:\n",
      "https://www.dmxapi.cn/v1\n",
      "client=<openai.resources.chat.completions.completions.Completions object at 0x11343eb10> async_client=<openai.resources.chat.completions.completions.AsyncCompletions object at 0x113442780> root_client=<openai.OpenAI object at 0x1133ca990> root_async_client=<openai.AsyncOpenAI object at 0x1133ca490> model_name='gpt-4o' temperature=0.0 model_kwargs={} openai_api_key=SecretStr('**********') openai_api_base='https://www.dmxapi.cn/v1'\n"
     ]
    },
    {
     "ename": "TypeError",
     "evalue": "create_react_agent() missing 1 required positional argument: 'tools'",
     "output_type": "error",
     "traceback": [
      "\u001B[0;31m---------------------------------------------------------------------------\u001B[0m",
      "\u001B[0;31mTypeError\u001B[0m                                 Traceback (most recent call last)",
      "Cell \u001B[0;32mIn[7], line 23\u001B[0m\n\u001B[1;32m     14\u001B[0m temp \u001B[38;5;241m=\u001B[39m \u001B[38;5;124m\"\"\"\u001B[39m\n\u001B[1;32m     15\u001B[0m \u001B[38;5;124m【角色】 你是一个情感大师 需要理解用户的输入 并且以俏皮的方式回复用户 给用户一个美好的感受\u001B[39m\n\u001B[1;32m     16\u001B[0m \u001B[38;5;124m 用户输入:\u001B[39m\u001B[38;5;132;01m{query}\u001B[39;00m\n\u001B[1;32m     17\u001B[0m \u001B[38;5;124m\"\"\"\u001B[39m\n\u001B[1;32m     19\u001B[0m p \u001B[38;5;241m=\u001B[39m PromptTemplate\u001B[38;5;241m.\u001B[39mfrom_template(\n\u001B[1;32m     20\u001B[0m     temp\n\u001B[1;32m     21\u001B[0m )\n\u001B[0;32m---> 23\u001B[0m grap \u001B[38;5;241m=\u001B[39m \u001B[43mcreate_react_agent\u001B[49m\u001B[43m(\u001B[49m\u001B[43mllm\u001B[49m\u001B[43m,\u001B[49m\u001B[43mprompt\u001B[49m\u001B[38;5;241;43m=\u001B[39;49m\u001B[43mp\u001B[49m\u001B[43m)\u001B[49m\n\u001B[1;32m     24\u001B[0m res \u001B[38;5;241m=\u001B[39m grap\u001B[38;5;241m.\u001B[39minvoke({\u001B[38;5;124m\"\u001B[39m\u001B[38;5;124mquery\u001B[39m\u001B[38;5;124m\"\u001B[39m:\u001B[38;5;124m\"\u001B[39m\u001B[38;5;124m你好 肚子疼\u001B[39m\u001B[38;5;124m\"\u001B[39m})\n\u001B[1;32m     25\u001B[0m \u001B[38;5;28mprint\u001B[39m(res)\n",
      "\u001B[0;31mTypeError\u001B[0m: create_react_agent() missing 1 required positional argument: 'tools'"
     ]
    }
   ],
   "execution_count": 7
  }
 ],
 "metadata": {
  "kernelspec": {
   "display_name": "Python 3",
   "language": "python",
   "name": "python3"
  },
  "language_info": {
   "codemirror_mode": {
    "name": "ipython",
    "version": 2
   },
   "file_extension": ".py",
   "mimetype": "text/x-python",
   "name": "python",
   "nbconvert_exporter": "python",
   "pygments_lexer": "ipython2",
   "version": "2.7.6"
  }
 },
 "nbformat": 4,
 "nbformat_minor": 5
}
