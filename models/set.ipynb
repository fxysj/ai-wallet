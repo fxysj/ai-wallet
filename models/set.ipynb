{
 "cells": [
  {
   "cell_type": "code",
   "id": "initial_id",
   "metadata": {
    "collapsed": true,
    "ExecuteTime": {
     "end_time": "2025-04-06T03:14:49.654953Z",
     "start_time": "2025-04-06T03:14:49.652700Z"
    }
   },
   "source": [
    "import json\n",
    "from os import environ\n",
    "\n",
    "from aiohttp.client_reqrep import json_re\n",
    "from langchain_core.messages import ToolMessage\n",
    "from langgraph.constants import START\n",
    "from typing_extensions import TypedDict, Annotated"
   ],
   "outputs": [],
   "execution_count": 2
  },
  {
   "metadata": {
    "ExecuteTime": {
     "end_time": "2025-04-06T03:18:16.846121Z",
     "start_time": "2025-04-06T03:18:16.842518Z"
    }
   },
   "cell_type": "code",
   "source": [
    "from langgraph.graph import add_messages\n",
    "from langgraph.graph import StateGraph, START, END\n",
    "\n",
    "class State(TypedDict):\n",
    "    # Messages have the type list The add_messages function\n",
    "    #in the annoation defines how this state key should be updated\n",
    "    #(in this casse,it appends messages to the list,ranther than overwriting #them)\n",
    "    messages: Annotated[list,add_messages]\n",
    "\n",
    "graph_builder = StateGraph(State)\n"
   ],
   "id": "2238f5eff6f8ddce",
   "outputs": [],
   "execution_count": 4
  },
  {
   "metadata": {
    "ExecuteTime": {
     "end_time": "2025-04-06T03:19:10.639146Z",
     "start_time": "2025-04-06T03:19:10.212452Z"
    }
   },
   "cell_type": "code",
   "source": [
    "from app.agents.lib.llm.llm import LLMFactory\n",
    "llm = LLMFactory.getDefaultOPENAI()\n",
    "def chatbot(state:State):\n",
    "    return {\"messages\":[llm.invoke(state[\"messages\"])]}\n",
    "# The first argument is the unique node name\n",
    "# The second argument is the function or object that will be called whenever\n",
    "# the node is used.\n",
    "graph_builder.add_node(\"chatbot\", chatbot)\n",
    "graph_builder.add_edge(START,\"chatbot\")\n",
    "graph_builder.add_edge(\"chatbot\", END)\n",
    "graph = graph_builder.compile()"
   ],
   "id": "10b807486c785336",
   "outputs": [
    {
     "name": "stdout",
     "output_type": "stream",
     "text": [
      "OPENAI_BASE_URL:\n",
      "https://www.dmxapi.cn/v1\n"
     ]
    }
   ],
   "execution_count": 5
  },
  {
   "metadata": {
    "ExecuteTime": {
     "end_time": "2025-04-06T03:19:35.122605Z",
     "start_time": "2025-04-06T03:19:34.878466Z"
    }
   },
   "cell_type": "code",
   "source": [
    "from IPython.display import Image, display\n",
    "\n",
    "try:\n",
    "    display(Image(graph.get_graph().draw_mermaid_png()))\n",
    "except Exception:\n",
    "    # This requires some extra dependencies and is optional\n",
    "    pass"
   ],
   "id": "a02288d26ea7fbcb",
   "outputs": [
    {
     "data": {
      "image/png": "[encoded data removed]",
      "text/plain": [
       "<IPython.core.display.Image object>"
      ]
     },
     "metadata": {},
     "output_type": "display_data"
    }
   ],
   "execution_count": 6
  },
  {
   "metadata": {
    "ExecuteTime": {
     "end_time": "2025-04-06T04:18:23.781434Z",
     "start_time": "2025-04-06T04:18:21.038150Z"
    }
   },
   "cell_type": "code",
   "source": [
    "from langchain_core.messages import ToolMessage\n",
    "def stream_graph_updates(user_input: str):\n",
    "    for event in graph.stream({\"messages\": [{\"role\": \"user\", \"content\": user_input}]}):\n",
    "        for value in event.values():\n",
    "            print(\"Assistant:\", value[\"messages\"][-1].content)\n",
    "while True:\n",
    "    try:\n",
    "        user_input = input(\"User: \")\n",
    "        if user_input.lower() in [\"quit\", \"exit\", \"q\"]:\n",
    "            print(\"Goodbye!\")\n",
    "            break\n",
    "\n",
    "        stream_graph_updates(user_input)\n",
    "    except:\n",
    "        # fallback if input() is not available\n",
    "        user_input = \"What do you know about LangGraph?\"\n",
    "        print(\"User: \" + user_input)\n",
    "        stream_graph_updates(user_input)\n",
    "        break\n",
    "\n",
    "\n"
   ],
   "id": "7ff152cd7b2ec845",
   "outputs": [
    {
     "name": "stdout",
     "output_type": "stream",
     "text": [
      "User: What do you know about LangGraph?\n",
      "Assistant: \n"
     ]
    },
    {
     "name": "stderr",
     "output_type": "stream",
     "text": [
      "\n",
      "KeyboardInterrupt\n",
      "\n"
     ]
    }
   ],
   "execution_count": 25
  },
  {
   "metadata": {
    "ExecuteTime": {
     "end_time": "2025-04-06T03:56:40.075465Z",
     "start_time": "2025-04-06T03:56:30.064171Z"
    }
   },
   "cell_type": "code",
   "source": "!pip install -U tavily-python langchain_community",
   "id": "424bf045af2a115b",
   "outputs": [
    {
     "name": "stdout",
     "output_type": "stream",
     "text": [
      "Requirement already satisfied: tavily-python in /Library/Frameworks/Python.framework/Versions/3.13/lib/python3.13/site-packages (0.5.4)\r\n",
      "Collecting langchain_community\r\n",
      "  Downloading langchain_community-0.3.21-py3-none-any.whl.metadata (2.4 kB)\r\n",
      "Requirement already satisfied: requests in /Library/Frameworks/Python.framework/Versions/3.13/lib/python3.13/site-packages (from tavily-python) (2.32.3)\r\n",
      "Requirement already satisfied: tiktoken>=0.5.1 in /Library/Frameworks/Python.framework/Versions/3.13/lib/python3.13/site-packages (from tavily-python) (0.9.0)\r\n",
      "Requirement already satisfied: httpx in /Library/Frameworks/Python.framework/Versions/3.13/lib/python3.13/site-packages (from tavily-python) (0.28.1)\r\n",
      "Collecting langchain-core<1.0.0,>=0.3.51 (from langchain_community)\r\n",
      "  Downloading langchain_core-0.3.51-py3-none-any.whl.metadata (5.9 kB)\r\n",
      "Collecting langchain<1.0.0,>=0.3.23 (from langchain_community)\r\n",
      "  Downloading langchain-0.3.23-py3-none-any.whl.metadata (7.8 kB)\r\n",
      "Requirement already satisfied: SQLAlchemy<3,>=1.4 in /Library/Frameworks/Python.framework/Versions/3.13/lib/python3.13/site-packages (from langchain_community) (2.0.29)\r\n",
      "Requirement already satisfied: PyYAML>=5.3 in /Library/Frameworks/Python.framework/Versions/3.13/lib/python3.13/site-packages (from langchain_community) (6.0.2)\r\n",
      "Collecting aiohttp<4.0.0,>=3.8.3 (from langchain_community)\r\n",
      "  Downloading aiohttp-3.11.16-cp313-cp313-macosx_11_0_arm64.whl.metadata (7.7 kB)\r\n",
      "Requirement already satisfied: tenacity!=8.4.0,<10,>=8.1.0 in /Library/Frameworks/Python.framework/Versions/3.13/lib/python3.13/site-packages (from langchain_community) (9.0.0)\r\n",
      "Collecting dataclasses-json<0.7,>=0.5.7 (from langchain_community)\r\n",
      "  Downloading dataclasses_json-0.6.7-py3-none-any.whl.metadata (25 kB)\r\n",
      "Requirement already satisfied: pydantic-settings<3.0.0,>=2.4.0 in /Library/Frameworks/Python.framework/Versions/3.13/lib/python3.13/site-packages (from langchain_community) (2.8.1)\r\n",
      "Requirement already satisfied: langsmith<0.4,>=0.1.125 in /Library/Frameworks/Python.framework/Versions/3.13/lib/python3.13/site-packages (from langchain_community) (0.3.19)\r\n",
      "Collecting httpx-sse<1.0.0,>=0.4.0 (from langchain_community)\r\n",
      "  Downloading httpx_sse-0.4.0-py3-none-any.whl.metadata (9.0 kB)\r\n",
      "Collecting numpy<3,>=1.26.2 (from langchain_community)\r\n",
      "  Using cached numpy-2.2.4-cp313-cp313-macosx_14_0_arm64.whl.metadata (62 kB)\r\n",
      "Collecting aiohappyeyeballs>=2.3.0 (from aiohttp<4.0.0,>=3.8.3->langchain_community)\r\n",
      "  Downloading aiohappyeyeballs-2.6.1-py3-none-any.whl.metadata (5.9 kB)\r\n",
      "Collecting aiosignal>=1.1.2 (from aiohttp<4.0.0,>=3.8.3->langchain_community)\r\n",
      "  Downloading aiosignal-1.3.2-py2.py3-none-any.whl.metadata (3.8 kB)\r\n",
      "Requirement already satisfied: attrs>=17.3.0 in /Library/Frameworks/Python.framework/Versions/3.13/lib/python3.13/site-packages (from aiohttp<4.0.0,>=3.8.3->langchain_community) (25.3.0)\r\n",
      "Collecting frozenlist>=1.1.1 (from aiohttp<4.0.0,>=3.8.3->langchain_community)\r\n",
      "  Downloading frozenlist-1.5.0-cp313-cp313-macosx_11_0_arm64.whl.metadata (13 kB)\r\n",
      "Collecting multidict<7.0,>=4.5 (from aiohttp<4.0.0,>=3.8.3->langchain_community)\r\n",
      "  Downloading multidict-6.3.2-cp313-cp313-macosx_11_0_arm64.whl.metadata (5.1 kB)\r\n",
      "Collecting propcache>=0.2.0 (from aiohttp<4.0.0,>=3.8.3->langchain_community)\r\n",
      "  Downloading propcache-0.3.1-cp313-cp313-macosx_11_0_arm64.whl.metadata (10 kB)\r\n",
      "Collecting yarl<2.0,>=1.17.0 (from aiohttp<4.0.0,>=3.8.3->langchain_community)\r\n",
      "  Downloading yarl-1.19.0-cp313-cp313-macosx_11_0_arm64.whl.metadata (71 kB)\r\n",
      "Collecting marshmallow<4.0.0,>=3.18.0 (from dataclasses-json<0.7,>=0.5.7->langchain_community)\r\n",
      "  Downloading marshmallow-3.26.1-py3-none-any.whl.metadata (7.3 kB)\r\n",
      "Collecting typing-inspect<1,>=0.4.0 (from dataclasses-json<0.7,>=0.5.7->langchain_community)\r\n",
      "  Downloading typing_inspect-0.9.0-py3-none-any.whl.metadata (1.5 kB)\r\n",
      "Collecting langchain-text-splitters<1.0.0,>=0.3.8 (from langchain<1.0.0,>=0.3.23->langchain_community)\r\n",
      "  Downloading langchain_text_splitters-0.3.8-py3-none-any.whl.metadata (1.9 kB)\r\n",
      "Requirement already satisfied: pydantic<3.0.0,>=2.7.4 in /Library/Frameworks/Python.framework/Versions/3.13/lib/python3.13/site-packages (from langchain<1.0.0,>=0.3.23->langchain_community) (2.10.6)\r\n",
      "Requirement already satisfied: jsonpatch<2.0,>=1.33 in /Library/Frameworks/Python.framework/Versions/3.13/lib/python3.13/site-packages (from langchain-core<1.0.0,>=0.3.51->langchain_community) (1.33)\r\n",
      "Requirement already satisfied: packaging<25,>=23.2 in /Library/Frameworks/Python.framework/Versions/3.13/lib/python3.13/site-packages (from langchain-core<1.0.0,>=0.3.51->langchain_community) (24.2)\r\n",
      "Requirement already satisfied: typing-extensions>=4.7 in /Library/Frameworks/Python.framework/Versions/3.13/lib/python3.13/site-packages (from langchain-core<1.0.0,>=0.3.51->langchain_community) (4.13.0)\r\n",
      "Requirement already satisfied: orjson<4.0.0,>=3.9.14 in /Library/Frameworks/Python.framework/Versions/3.13/lib/python3.13/site-packages (from langsmith<0.4,>=0.1.125->langchain_community) (3.10.16)\r\n",
      "Requirement already satisfied: requests-toolbelt<2.0.0,>=1.0.0 in /Library/Frameworks/Python.framework/Versions/3.13/lib/python3.13/site-packages (from langsmith<0.4,>=0.1.125->langchain_community) (1.0.0)\r\n",
      "Requirement already satisfied: zstandard<0.24.0,>=0.23.0 in /Library/Frameworks/Python.framework/Versions/3.13/lib/python3.13/site-packages (from langsmith<0.4,>=0.1.125->langchain_community) (0.23.0)\r\n",
      "Requirement already satisfied: anyio in /Library/Frameworks/Python.framework/Versions/3.13/lib/python3.13/site-packages (from httpx->tavily-python) (4.9.0)\r\n",
      "Requirement already satisfied: certifi in /Library/Frameworks/Python.framework/Versions/3.13/lib/python3.13/site-packages (from httpx->tavily-python) (2025.1.31)\r\n",
      "Requirement already satisfied: httpcore==1.* in /Library/Frameworks/Python.framework/Versions/3.13/lib/python3.13/site-packages (from httpx->tavily-python) (1.0.7)\r\n",
      "Requirement already satisfied: idna in /Library/Frameworks/Python.framework/Versions/3.13/lib/python3.13/site-packages (from httpx->tavily-python) (3.10)\r\n",
      "Requirement already satisfied: h11<0.15,>=0.13 in /Library/Frameworks/Python.framework/Versions/3.13/lib/python3.13/site-packages (from httpcore==1.*->httpx->tavily-python) (0.14.0)\r\n",
      "Requirement already satisfied: python-dotenv>=0.21.0 in /Library/Frameworks/Python.framework/Versions/3.13/lib/python3.13/site-packages (from pydantic-settings<3.0.0,>=2.4.0->langchain_community) (1.1.0)\r\n",
      "Requirement already satisfied: charset-normalizer<4,>=2 in /Library/Frameworks/Python.framework/Versions/3.13/lib/python3.13/site-packages (from requests->tavily-python) (3.4.1)\r\n",
      "Requirement already satisfied: urllib3<3,>=1.21.1 in /Library/Frameworks/Python.framework/Versions/3.13/lib/python3.13/site-packages (from requests->tavily-python) (2.3.0)\r\n",
      "Requirement already satisfied: regex>=2022.1.18 in /Library/Frameworks/Python.framework/Versions/3.13/lib/python3.13/site-packages (from tiktoken>=0.5.1->tavily-python) (2024.11.6)\r\n",
      "Requirement already satisfied: jsonpointer>=1.9 in /Library/Frameworks/Python.framework/Versions/3.13/lib/python3.13/site-packages (from jsonpatch<2.0,>=1.33->langchain-core<1.0.0,>=0.3.51->langchain_community) (3.0.0)\r\n",
      "Requirement already satisfied: annotated-types>=0.6.0 in /Library/Frameworks/Python.framework/Versions/3.13/lib/python3.13/site-packages (from pydantic<3.0.0,>=2.7.4->langchain<1.0.0,>=0.3.23->langchain_community) (0.7.0)\r\n",
      "Requirement already satisfied: pydantic-core==2.27.2 in /Library/Frameworks/Python.framework/Versions/3.13/lib/python3.13/site-packages (from pydantic<3.0.0,>=2.7.4->langchain<1.0.0,>=0.3.23->langchain_community) (2.27.2)\r\n",
      "Collecting mypy-extensions>=0.3.0 (from typing-inspect<1,>=0.4.0->dataclasses-json<0.7,>=0.5.7->langchain_community)\r\n",
      "  Downloading mypy_extensions-1.0.0-py3-none-any.whl.metadata (1.1 kB)\r\n",
      "Requirement already satisfied: sniffio>=1.1 in /Library/Frameworks/Python.framework/Versions/3.13/lib/python3.13/site-packages (from anyio->httpx->tavily-python) (1.3.1)\r\n",
      "Downloading langchain_community-0.3.21-py3-none-any.whl (2.5 MB)\r\n",
      "\u001B[2K   \u001B[90m━━━━━━━━━━━━━━━━━━━━━━━━━━━━━━━━━━━━━━━━\u001B[0m \u001B[32m2.5/2.5 MB\u001B[0m \u001B[31m9.5 MB/s\u001B[0m eta \u001B[36m0:00:00\u001B[0ma \u001B[36m0:00:01\u001B[0m\r\n",
      "\u001B[?25hDownloading aiohttp-3.11.16-cp313-cp313-macosx_11_0_arm64.whl (453 kB)\r\n",
      "Downloading dataclasses_json-0.6.7-py3-none-any.whl (28 kB)\r\n",
      "Downloading httpx_sse-0.4.0-py3-none-any.whl (7.8 kB)\r\n",
      "Downloading langchain-0.3.23-py3-none-any.whl (1.0 MB)\r\n",
      "\u001B[2K   \u001B[90m━━━━━━━━━━━━━━━━━━━━━━━━━━━━━━━━━━━━━━━━\u001B[0m \u001B[32m1.0/1.0 MB\u001B[0m \u001B[31m39.8 MB/s\u001B[0m eta \u001B[36m0:00:00\u001B[0m\r\n",
      "\u001B[?25hDownloading langchain_core-0.3.51-py3-none-any.whl (423 kB)\r\n",
      "Downloading numpy-2.2.4-cp313-cp313-macosx_14_0_arm64.whl (5.1 MB)\r\n",
      "\u001B[2K   \u001B[90m━━━━━━━━━━━━━━━━━━━━━━━━━━━━━━━━━━━━━━━━\u001B[0m \u001B[32m5.1/5.1 MB\u001B[0m \u001B[31m41.7 MB/s\u001B[0m eta \u001B[36m0:00:00\u001B[0m\r\n",
      "\u001B[?25hDownloading aiohappyeyeballs-2.6.1-py3-none-any.whl (15 kB)\r\n",
      "Downloading aiosignal-1.3.2-py2.py3-none-any.whl (7.6 kB)\r\n",
      "Downloading frozenlist-1.5.0-cp313-cp313-macosx_11_0_arm64.whl (50 kB)\r\n",
      "Downloading langchain_text_splitters-0.3.8-py3-none-any.whl (32 kB)\r\n",
      "Downloading marshmallow-3.26.1-py3-none-any.whl (50 kB)\r\n",
      "Downloading multidict-6.3.2-cp313-cp313-macosx_11_0_arm64.whl (35 kB)\r\n",
      "Downloading propcache-0.3.1-cp313-cp313-macosx_11_0_arm64.whl (44 kB)\r\n",
      "Downloading typing_inspect-0.9.0-py3-none-any.whl (8.8 kB)\r\n",
      "Downloading yarl-1.19.0-cp313-cp313-macosx_11_0_arm64.whl (94 kB)\r\n",
      "Downloading mypy_extensions-1.0.0-py3-none-any.whl (4.7 kB)\r\n",
      "Installing collected packages: propcache, numpy, mypy-extensions, multidict, marshmallow, httpx-sse, frozenlist, aiohappyeyeballs, yarl, typing-inspect, aiosignal, dataclasses-json, aiohttp, langchain-core, langchain-text-splitters, langchain, langchain_community\r\n",
      "  Attempting uninstall: langchain-core\r\n",
      "    Found existing installation: langchain-core 0.3.49\r\n",
      "    Uninstalling langchain-core-0.3.49:\r\n",
      "      Successfully uninstalled langchain-core-0.3.49\r\n",
      "  Attempting uninstall: langchain-text-splitters\r\n",
      "    Found existing installation: langchain-text-splitters 0.3.7\r\n",
      "    Uninstalling langchain-text-splitters-0.3.7:\r\n",
      "      Successfully uninstalled langchain-text-splitters-0.3.7\r\n",
      "  Attempting uninstall: langchain\r\n",
      "    Found existing installation: langchain 0.3.21\r\n",
      "    Uninstalling langchain-0.3.21:\r\n",
      "      Successfully uninstalled langchain-0.3.21\r\n",
      "Successfully installed aiohappyeyeballs-2.6.1 aiohttp-3.11.16 aiosignal-1.3.2 dataclasses-json-0.6.7 frozenlist-1.5.0 httpx-sse-0.4.0 langchain-0.3.23 langchain-core-0.3.51 langchain-text-splitters-0.3.8 langchain_community-0.3.21 marshmallow-3.26.1 multidict-6.3.2 mypy-extensions-1.0.0 numpy-2.2.4 propcache-0.3.1 typing-inspect-0.9.0 yarl-1.19.0\r\n"
     ]
    }
   ],
   "execution_count": 17
  },
  {
   "metadata": {
    "ExecuteTime": {
     "end_time": "2025-04-06T03:55:28.447522Z",
     "start_time": "2025-04-06T03:55:28.444995Z"
    }
   },
   "cell_type": "code",
   "source": [
    "import os\n",
    "\n",
    "os.environ[\"TAVILY_API_KEY\"] = \"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\"\n"
   ],
   "id": "8140a537072efe5f",
   "outputs": [],
   "execution_count": 15
  },
  {
   "metadata": {
    "ExecuteTime": {
     "end_time": "2025-04-06T03:58:34.470084Z",
     "start_time": "2025-04-06T03:58:32.066207Z"
    }
   },
   "cell_type": "code",
   "source": [
    "from langchain_community.tools.tavily_search import TavilySearchResults\n",
    "tool = TavilySearchResults(max_results=2)\n",
    "tools = [tool]\n",
    "tool.invoke(\"What's a 'node' in LangGraph?\")"
   ],
   "id": "d8708ec643a1e9de",
   "outputs": [
    {
     "data": {
      "text/plain": [
       "[{'title': 'LangGraph Glossary - GitHub Pages',\n",
       "  'url': 'https://langchain-ai.github.io/langgraph/concepts/low_level/',\n",
       "  'content': 'In LangGraph, nodes are typically python functions (sync or async) where the first positional argument is the state, and (optionally), the second positional argument is a \"config\", containing optional configurable parameters (such as a thread_id).\\nSimilar to NetworkX, you add these nodes to a graph using the add_node method:\\n[](https://langchain-ai.github.io/langgraph/concepts/low_level/#__codelineno-7-1)from langchain_core.runnables import RunnableConfig [...] By composing Nodes and Edges, you can create complex, looping workflows that evolve the State over time. The real power, though, comes from how LangGraph manages that State. To emphasize: Nodes and Edges are nothing more than Python functions - they can contain an LLM or just good ol\\' Python code.\\nIn short: nodes do the work. edges tell what to do next. [...] Nodes: Python functions that encode the logic of your agents. They receive the current State as input, perform some computation or side-effect, and return an updated State.\\n\\n\\nEdges: Python functions that determine which Node to execute next based on the current State. They can be conditional branches or fixed transitions.',\n",
       "  'score': 0.9008183},\n",
       " {'title': 'A Comprehensive Guide About Langgraph: Code Included - Ionio',\n",
       "  'url': 'https://www.ionio.ai/blog/a-comprehensive-guide-about-langgraph-code-included',\n",
       "  'content': 'Now let’s take a look at each component of langgraph in detail 🚀\\nNodes\\nA node can be any function or tool your agent uses in langgraph and these nodes are connected with other nodes using edges. Every workflow ends with a “END” node in langgraph which shows the end of workflow. You also need to define a starting node which will be the starting point of your workflow. Optionally, you can also define an ending node if you know the ending point of your workflow. [...] Workflow Automation: \\xa0LangGraph can automate complex workflows that involve multiple steps and decision points. By defining the steps as nodes in the graph and the decision logic as edges, LangGraph can handle complex tasks easily. Langgraph can also make complex RAG systems easy to visualize and implement.',\n",
       "  'score': 0.8991304}]"
      ]
     },
     "execution_count": 19,
     "metadata": {},
     "output_type": "execute_result"
    }
   ],
   "execution_count": 19
  },
  {
   "metadata": {
    "ExecuteTime": {
     "end_time": "2025-04-06T04:02:42.175803Z",
     "start_time": "2025-04-06T04:02:42.089780Z"
    }
   },
   "cell_type": "code",
   "source": [
    "from typing import Annotated\n",
    "from typing_extensions import TypedDict\n",
    "from app.agents.lib.llm.llm import LLMFactory\n",
    "from langgraph.graph import StateGraph, START, END\n",
    "from langgraph.graph.message import add_messages\n",
    "\n",
    "class State(TypedDict):\n",
    "    messages: Annotated[list, add_messages]\n",
    "\n",
    "\n",
    "graph_builder = StateGraph(State)\n",
    "\n",
    "\n",
    "llm =LLMFactory.getDefaultOPENAI()\n",
    "# Modification: tell the LLM which tools it can call\n",
    "llm_with_tools = llm.bind_tools(tools)\n",
    "\n",
    "\n",
    "def chatbot(state: State):\n",
    "    return {\"messages\": [llm_with_tools.invoke(state[\"messages\"])]}\n",
    "\n",
    "\n",
    "graph_builder.add_node(\"chatbot\", chatbot)\n"
   ],
   "id": "597c7bcf70573913",
   "outputs": [
    {
     "name": "stdout",
     "output_type": "stream",
     "text": [
      "OPENAI_BASE_URL:\n",
      "https://www.dmxapi.cn/v1\n"
     ]
    },
    {
     "data": {
      "text/plain": [
       "<langgraph.graph.state.StateGraph at 0x10ad53110>"
      ]
     },
     "execution_count": 20,
     "metadata": {},
     "output_type": "execute_result"
    }
   ],
   "execution_count": 20
  },
  {
   "metadata": {
    "ExecuteTime": {
     "end_time": "2025-04-06T04:20:37.262936Z",
     "start_time": "2025-04-06T04:20:37.226153Z"
    }
   },
   "cell_type": "code",
   "source": [
    "import json\n",
    "class BasicToolNode:\n",
    "    \"\"\"\n",
    "    A node that runs the tools requested in the last AIMessage.\n",
    "    \"\"\"\n",
    "    def __init__(self,tools:list)->None:\n",
    "        self.tools_by_name = {tool.name: tool for tool in tools}\n",
    "\n",
    "    def __call__(self, inputs:dict):\n",
    "        if messages := inputs.get(\"messages\",[]):\n",
    "            messages = messages[-1]\n",
    "        else:\n",
    "            raise ValueError(\"No message found in input\")\n",
    "\n",
    "        outputs = []\n",
    "        for tool_call in messages.tool_calls:\n",
    "            tool_result = self.tools_by_name[tool_call[\"name\"]].invoke(\n",
    "                tool_call[\"args\"]\n",
    "            )\n",
    "            outputs.append(\n",
    "                ToolMessage(\n",
    "                    content=json.dumps(tool_result),\n",
    "                    name=tool_call[\"name\"],\n",
    "                    tool_call_id=tool_call[\"id\"],\n",
    "                )\n",
    "            )\n",
    "\n",
    "        return {\"messages\":outputs}\n",
    "tool_node =   BasicToolNode(tools=[tool])\n",
    "graph_builder.add_node(\"tools\",tool_node)"
   ],
   "id": "d70ea467da86eea3",
   "outputs": [
    {
     "name": "stderr",
     "output_type": "stream",
     "text": [
      "Adding a node to a graph that has already been compiled. This will not be reflected in the compiled graph.\n"
     ]
    },
    {
     "ename": "ValueError",
     "evalue": "Node `tools` already present.",
     "output_type": "error",
     "traceback": [
      "\u001B[0;31m---------------------------------------------------------------------------\u001B[0m",
      "\u001B[0;31mValueError\u001B[0m                                Traceback (most recent call last)",
      "Cell \u001B[0;32mIn[27], line 30\u001B[0m\n\u001B[1;32m     28\u001B[0m         \u001B[38;5;28;01mreturn\u001B[39;00m {\u001B[38;5;124m\"\u001B[39m\u001B[38;5;124mmessages\u001B[39m\u001B[38;5;124m\"\u001B[39m:outputs}\n\u001B[1;32m     29\u001B[0m tool_node \u001B[38;5;241m=\u001B[39m   BasicToolNode(tools\u001B[38;5;241m=\u001B[39m[tool])\n\u001B[0;32m---> 30\u001B[0m \u001B[43mgraph_builder\u001B[49m\u001B[38;5;241;43m.\u001B[39;49m\u001B[43madd_node\u001B[49m\u001B[43m(\u001B[49m\u001B[38;5;124;43m\"\u001B[39;49m\u001B[38;5;124;43mtools\u001B[39;49m\u001B[38;5;124;43m\"\u001B[39;49m\u001B[43m,\u001B[49m\u001B[43mtool_node\u001B[49m\u001B[43m)\u001B[49m\n",
      "File \u001B[0;32m/Library/Frameworks/Python.framework/Versions/3.13/lib/python3.13/site-packages/langgraph/graph/state.py:369\u001B[0m, in \u001B[0;36mStateGraph.add_node\u001B[0;34m(self, node, action, metadata, input, retry, destinations)\u001B[0m\n\u001B[1;32m    367\u001B[0m     \u001B[38;5;28;01mraise\u001B[39;00m \u001B[38;5;167;01mRuntimeError\u001B[39;00m\n\u001B[1;32m    368\u001B[0m \u001B[38;5;28;01mif\u001B[39;00m node \u001B[38;5;129;01min\u001B[39;00m \u001B[38;5;28mself\u001B[39m\u001B[38;5;241m.\u001B[39mnodes:\n\u001B[0;32m--> 369\u001B[0m     \u001B[38;5;28;01mraise\u001B[39;00m \u001B[38;5;167;01mValueError\u001B[39;00m(\u001B[38;5;124mf\u001B[39m\u001B[38;5;124m\"\u001B[39m\u001B[38;5;124mNode `\u001B[39m\u001B[38;5;132;01m{\u001B[39;00mnode\u001B[38;5;132;01m}\u001B[39;00m\u001B[38;5;124m` already present.\u001B[39m\u001B[38;5;124m\"\u001B[39m)\n\u001B[1;32m    370\u001B[0m \u001B[38;5;28;01mif\u001B[39;00m node \u001B[38;5;241m==\u001B[39m END \u001B[38;5;129;01mor\u001B[39;00m node \u001B[38;5;241m==\u001B[39m START:\n\u001B[1;32m    371\u001B[0m     \u001B[38;5;28;01mraise\u001B[39;00m \u001B[38;5;167;01mValueError\u001B[39;00m(\u001B[38;5;124mf\u001B[39m\u001B[38;5;124m\"\u001B[39m\u001B[38;5;124mNode `\u001B[39m\u001B[38;5;132;01m{\u001B[39;00mnode\u001B[38;5;132;01m}\u001B[39;00m\u001B[38;5;124m` is reserved.\u001B[39m\u001B[38;5;124m\"\u001B[39m)\n",
      "\u001B[0;31mValueError\u001B[0m: Node `tools` already present."
     ]
    }
   ],
   "execution_count": 27
  },
  {
   "metadata": {
    "ExecuteTime": {
     "end_time": "2025-04-06T04:13:36.140572Z",
     "start_time": "2025-04-06T04:13:36.134802Z"
    }
   },
   "cell_type": "code",
   "source": [
    "def route_tools(\n",
    "\n",
    "    state: State,\n",
    "\n",
    "):\n",
    "\n",
    "    \"\"\"\n",
    "\n",
    "    Use in the conditional_edge to route to the ToolNode if the last message\n",
    "\n",
    "    has tool calls. Otherwise, route to the end.\n",
    "\n",
    "    \"\"\"\n",
    "\n",
    "    if isinstance(state, list):\n",
    "\n",
    "        ai_message = state[-1]\n",
    "\n",
    "    elif messages := state.get(\"messages\", []):\n",
    "\n",
    "        ai_message = messages[-1]\n",
    "\n",
    "    else:\n",
    "\n",
    "        raise ValueError(f\"No messages found in input state to tool_edge: {state}\")\n",
    "\n",
    "    if hasattr(ai_message, \"tool_calls\") and len(ai_message.tool_calls) > 0:\n",
    "\n",
    "        return \"tools\"\n",
    "\n",
    "    return END\n",
    "\n",
    "\n",
    "\n",
    "\n",
    "\n",
    "# The `tools_condition` function returns \"tools\" if the chatbot asks to use a tool, and \"END\" if\n",
    "\n",
    "# it is fine directly responding. This conditional routing defines the main agent loop.\n",
    "\n",
    "graph_builder.add_conditional_edges(\n",
    "\n",
    "    \"chatbot\",\n",
    "\n",
    "    route_tools,\n",
    "\n",
    "    # The following dictionary lets you tell the graph to interpret the condition's outputs as a specific node\n",
    "\n",
    "    # It defaults to the identity function, but if you\n",
    "\n",
    "    # want to use a node named something else apart from \"tools\",\n",
    "\n",
    "    # You can update the value of the dictionary to something else\n",
    "\n",
    "    # e.g., \"tools\": \"my_tools\"\n",
    "\n",
    "    {\"tools\": \"tools\", END: END},\n",
    "\n",
    ")\n",
    "\n",
    "# Any time a tool is called, we return to the chatbot to decide the next step\n",
    "\n",
    "graph_builder.add_edge(\"tools\", \"chatbot\")\n",
    "\n",
    "graph_builder.add_edge(START, \"chatbot\")\n",
    "\n",
    "graph = graph_builder.compile()\n"
   ],
   "id": "854dab87f484e6a5",
   "outputs": [],
   "execution_count": 22
  },
  {
   "metadata": {
    "ExecuteTime": {
     "end_time": "2025-04-06T04:13:40.687795Z",
     "start_time": "2025-04-06T04:13:40.365448Z"
    }
   },
   "cell_type": "code",
   "source": [
    "from IPython.display import Image, display\n",
    "\n",
    "try:\n",
    "    display(Image(graph.get_graph().draw_mermaid_png()))\n",
    "except Exception:\n",
    "    # This requires some extra dependencies and is optional\n",
    "    pass"
   ],
   "id": "b3bed04f57e9e613",
   "outputs": [
    {
     "data": {
      "image/png": "[encoded data removed]",
      "text/plain": [
       "<IPython.core.display.Image object>"
      ]
     },
     "metadata": {},
     "output_type": "display_data"
    }
   ],
   "execution_count": 23
  },
  {
   "metadata": {
    "ExecuteTime": {
     "end_time": "2025-04-06T04:22:22.677713Z",
     "start_time": "2025-04-06T04:20:56.651305Z"
    }
   },
   "cell_type": "code",
   "source": [
    "while True:\n",
    "    try:\n",
    "        user_input = input(\"User: \")\n",
    "        if user_input.lower() in [\"quit\", \"exit\", \"q\"]:\n",
    "            print(\"Goodbye!\")\n",
    "            break\n",
    "\n",
    "        stream_graph_updates(user_input)\n",
    "    except:\n",
    "        # fallback if input() is not available\n",
    "        user_input = \"What do you know about LangGraph?\"\n",
    "        print(\"User: \" + user_input)\n",
    "        stream_graph_updates(user_input)\n",
    "        break"
   ],
   "id": "113b8c1d2c4551e",
   "outputs": [
    {
     "name": "stdout",
     "output_type": "stream",
     "text": [
      "Assistant: Hello! How can I assist you today?\n",
      "Assistant: 请提供您想查询的信息或问题，我会尽力帮助您找到答案。\n",
      "Assistant: \n",
      "Assistant: \"SSLError(MaxRetryError(\\\"HTTPSConnectionPool(host='api.tavily.com', port=443): Max retries exceeded with url: /search (Caused by SSLError(SSLEOFError(8, '[SSL: UNEXPECTED_EOF_WHILE_READING] EOF occurred in violation of protocol (_ssl.c:1028)')))\\\"))\"\n",
      "Assistant: It seems there was an issue retrieving the current price of Ethereum (ETH) due to a connection error. You might want to check a reliable financial website or cryptocurrency exchange for the latest price information.\n",
      "Assistant: 请问有什么我可以帮助您的吗？\n",
      "Assistant: 请提供您想查询的具体内容或问题，以便我能更好地帮助您。\n",
      "Assistant: \n",
      "Assistant: [{\"title\": \"Bitcoin Price, BTC Price Chart & Marketcap - KuCoin\", \"url\": \"https://www.kucoin.com/price/BTC\", \"content\": \"Bitcoin Price\\n(BTC)\\nUSD($)\\nBitcoin (BTC) Live Price Chart\\nOverview\\nAbout\\nAnalysis\\nFAQ\\nBitcoin Live Price Data\\nThe live price of Bitcoin is $86,863.7, with a total trading volume of $ 340.45M in the last 24 hours. The price of Bitcoin changed by +0.68% in the past day, and its USD value has decreased by -9.67% over the last week. With a circulating supply of 19,829,409 BTC, the market cap of Bitcoin is currently 1.72T USD, marking a --% increase today. Bitcoin currently ranks #1 in market cap. [...] What is the all-time high price of Bitcoin (BTC)?\\nThe all-time high price of Bitcoin (BTC) is $109,114.8. The current price of BTC is down 20.29% from its all-time high.\\n\\n\\nWhat is the all-time low price of Bitcoin (BTC)?\\nThe all-time low price of Bitcoin (BTC) is $0.0. The current price of BTC is up 178,793,294.14% from its all-time low.\\n\\n\\nHow much Bitcoin (BTC) is there in circulation?\\nAs of 2 26, 2025, there is currently 19,829,409 BTC in circulation. BTC has a maximum supply of 21,000,000.\", \"score\": 0.8943568}, {\"title\": \"Bitcoin Price: BTC Live Price Chart, Market Cap & News Today\", \"url\": \"https://www.coingecko.com/en/coins/bitcoin\", \"content\": \"The price of Bitcoin (BTC) is $84,086.51 today with a 24-hour trading volume of $30,170,764,087. This represents a 1.30% price increase in the last 24 hours and a -3.94% price decline in the past 7 days. With a circulating supply of 20 Million BTC, Bitcoin is valued at a market cap of $1,668,721,700,402.\\n|\\nBuy\\n Sponsored\\nAdd to Portfolio [...] Bitcoin\\nBTC Price\\n1\\n$84,086.51\\n1.3%\\nHow is the price of Bitcoin (BTC) calculated?\\nThe price of Bitcoin (BTC) is calculated in real-time by aggregating the latest data across 211 exchanges and 3760 markets, using a global volume-weighted average formula. Learn more about how crypto prices are calculated on CoinGecko.\\n1.0000 BTC 0.0%\\n$82,649.13 24h Range $85,438.23\\nAdd to Portfolio \\u2022 1,989,603 added\\nBitcoin Price Chart (BTC)\\n24h 7d 1m 3m 1y Max | LOG\\nPrice Market Cap TradingView [...] Move\\nSelect\\nESC\\nClose\\nPortfolios\\nAdd to New Portfolio\\n\\nTrack\\n\\non the go\\nGet real-time updates via push notifications on the app.\\n\\nOpen App\\n\\nCryptocurrencies\\nBitcoin Price\\n\\n\\nBitcoin $84,086.51\\n1.3%\\nOverview Info Markets News Similar Coins Historical Data Bitcoin Halving Countdown\\nAdd\\nOverview Info Markets News Similar Coins Historical Data Bitcoin Halving Countdown\", \"score\": 0.8742601}]\n",
      "Assistant: The current price of Bitcoin (BTC) is approximately $86,863.7 according to KuCoin, and $84,086.51 according to CoinGecko. The price has seen a slight increase in the last 24 hours but has decreased over the past week. The market cap of Bitcoin is around $1.72 trillion, with a circulating supply of approximately 19.8 million BTC.\n",
      "Assistant: 请问您需要查询什么内容？我可以帮助您进行搜索。\n",
      "Assistant: 请问您对区块链方面有什么具体的问题或感兴趣的主题？例如，您想了解区块链的基本原理、应用场景、最新发展动态，还是其他方面的信息？\n",
      "Assistant: \n",
      "Assistant: [{\"title\": \"\\u7f8e\\u56fd\\u4e4b\\u97f3\\u4e2d\\u6587\\u7f51\\u65b0\\u95fb\", \"url\": \"https://www.voachinese.com/z/1739\", \"content\": \"2025\\u5e742\\u67087\\u65e5#### \\u526f\\u603b\\u7edf\\u4e07\\u65af\\uff1a\\u7279\\u6717\\u666e\\u653f\\u5e9c\\u81f4\\u529b\\u4e8e\\u5728\\u56fd\\u5185\\u5916\\u4fdd\\u62a4\\u548c\\u63a8\\u52a8\\u5b97\\u6559\\u81ea\\u7531 \\u7f8e\\u56fd\\u526f\\u603b\\u7edfJ.D.\\u4e07\\u65af(JD Vance)\\u661f\\u671f\\u4e09(2\\u67085\\u65e5)\\u5728\\u534e\\u76db\\u987f\\u4e3e\\u529e\\u76842025\\u5e74\\u5ea6\\u201c\\u56fd\\u9645\\u5b97\\u6559\\u81ea\\u7531\\u5cf0\\u4f1a\\u201d(IRF Summit)\\u4e0a\\u53d1\\u8868\\u6f14\\u8bb2\\u65f6\\u8868\\u793a\\uff0c\\u7279\\u6717\\u666e\\u653f\\u5e9c\\u5c06\\u5728\\u56fd\\u5185\\u5916\\u7ee7\\u7eed\\u634d\\u536b\\u5b97\\u6559\\u81ea\\u7531\\uff0c\\u4e0d\\u4ec5\\u5728\\u201c\\u6062\\u590d\\uff0c\\u800c\\u4e14\\u5728\\u6269\\u5927\\u201d\\u7f8e\\u56fd\\u7684\\u5b97\\u6559\\u81ea\\u7531\\u3002\\u4ed6\\u8fd8\\u8bf4\\uff0c\\u5b97\\u6559\\u81ea\\u7531\\u5c06\\u5728\\u7f8e\\u56fd\\u7684\\u5916\\u4ea4\\u653f\\u7b56\\u4e2d\\u53d1\\u6325\\u91cd\\u8981\\u4f5c\\u7528\\u3002\\n\\n\\n\\u52a0\\u8f7d\\u66f4\\u591a\\nVOA\\u536b\\u89c6(\\u76f4\\u64ad)\\n\\n\\n\\n\\u5d4c\\u5165 \\u5206\\u4eab\\n\\n\\u5d4c\\u5165 \\u5206\\u4eab\\n\\u4ee3\\u7801\\u5df2\\u7ecf\\u590d\\u5236\\u5230\\u526a\\u8d34\\u677f\\u3002\\n\\n\\u5bbd\\u5ea6  px \\u9ad8\\u5ea6  px\\n\\n\\u5206\\u4eab\\u5230\\u8138\\u4e66\\n\\u5206\\u4eab\\u5230\\u63a8\\u7279\\n\\n\\n\\n\\n\\u7f51\\u5740\\u5df2\\u590d\\u5236\\u5230\\u526a\\u8d34\\u677f\\n\\u6ca1\\u6709\\u73b0\\u573a\\u76f4\\u64ad\\n0:00 0:00 \\u76f4\\u64ad\\n\\n\\u6b22\\u8fce\\u5728YouTube\\u76f4\\u64ad\\u804a\\u5929\\u5ba4\\u53c2\\u4e0e\\u8282\\u76ee\\u8ba8\\u8bba\\n\\u8d8a\\u6d0b\\u7535\\u8bdd\\uff1a\\u201c\\u6297\\u4e89\\u8005\\u201d\\n\\n\\u6700\\u65b0\\u8282\\u76ee\\n\\u8d8a\\u6d0b\\u7535\\u8bdd\\uff1a\\u5c0f\\u7f57\\u5feb\\u8dd1 \\uff5c EP3\\u300c\\u8292\\u300d\\u8d8a\\u6d0b\\u7535\\u8bdd\\n\\u8ba2\\u9605\\n\\n\\u8ba2\\u9605\\n\\u82f9\\u679c\\u64ad\\u5ba2 YouTube Music Spotify YouTube \\u8ba2\\u9605\\n\\u6700\\u65b0\\u62a5\\u9053\\n\\n\\n\\n#### \\u7279\\u6717\\u666e\\u9996\\u4f1a\\u77f3\\u7834\\u8302\\uff0c\\u7f8e\\u65e5\\u8054\\u5408\\u58f0\\u660e\\u91cd\\u7533\\u5f3a\\u70c8\\u53cd\\u5bf9\\u4e2d\\u56fd\\u5728\\u5357\\u4e2d\\u56fd\\u6d77\\u7684\\u5a01\\u80c1\\u548c\\u6311\\u8845\\u6d3b\\u52a8(\\u6bb5\\u843d\\u6458\\u8bd1)\\n\\n\\n\\n#### \\u8d8a\\u5357\\u51c6\\u5907\\u5e94\\u5bf9\\u7279\\u6717\\u666e\\u5bf9\\u4e2d\\u56fd\\u5546\\u54c1\\u52a0\\u5f81\\u5173\\u7a0e\\u7684\\u6f5c\\u5728\\u5f71\\u54cd [...] 2025\\u5e742\\u67088\\u65e5#### \\u4eba\\u5de5\\u667a\\u80fd\\u548c\\u5173\\u7a0e\\u6218\\u52a9\\u5a01\\uff0c\\u53f0\\u6e7e\\u4eca\\u5e74\\u4e00\\u6708\\u51fa\\u53e3\\u8d85\\u8fc7387\\u4ebf\\u7f8e\\u5143\\uff0c\\u540c\\u6bd4\\u4e0a\\u53474.4% \\u53f0\\u6e7e\\u7684\\u51fa\\u53e3\\u5916\\u9500\\u4eca\\u5e74\\u4e00\\u6708\\u4efd\\u51fa\\u73b0\\u5f00\\u95e8\\u7ea2\\uff0c\\u589e\\u5e45\\u8d85\\u51fa\\u9884\\u671f\\uff0c\\u6210\\u4e3a\\u5386\\u5e74\\u540c\\u6708\\u7684\\u6b21\\u9ad8\\u3002\\u8def\\u900f\\u793e\\u8ba4\\u4e3a\\uff0c\\u65b0\\u5e74\\u4f0a\\u59cb\\u53f0\\u6e7e\\u51fa\\u53e3\\u5f3a\\u52b2\\uff0c\\u4e3b\\u8981\\u5f97\\u76ca\\u4e8e\\u4eba\\u5de5\\u667a\\u80fd\\uff08AI\\uff09\\u82af\\u7247\\u7b49\\u4ea7\\u54c1\\u9700\\u6c42\\u65fa\\u76db\\u4ee5\\u53ca\\u516c\\u53f8\\u56e0\\u62c5\\u5fc3\\u5510\\u7eb3\\u5fb7\\u00b7\\u7279\\u6717\\u666e\\uff08Donald Trump\\uff09\\u603b\\u7edf\\u91cd\\u8fd4\\u767d\\u5bab\\u540e\\u6325\\u821e\\u5173\\u7a0e\\u5927\\u68d2\\uff0c\\u56e0\\u6b64\\u62a2\\u5728\\u4ed6\\u5ba3\\u8a93\\u5c31\\u804c\\u524d\\u5306\\u5fd9\\u4e0b\\u8ba2\\u5355\\u548c\\u51fa\\u8d27\\u6240\\u81f4\\u3002\\n\\n\\n\\n2025\\u5e742\\u67088\\u65e5#### \\u4e2d\\u56fd\\u529b\\u63a8\\u201c\\u4f4e\\u7a7a\\u7ecf\\u6d4e\\u201d\\uff1a \\u65e0\\u4eba\\u673a\\u94fa\\u8def\\u201c\\u5929\\u4e0aGDP\\u201d \\u98de\\u624b\\u70ed\\u8fd8\\u662f\\u865a\\u706b\\uff1f \\u968f\\u7740\\u65e0\\u4eba\\u673a\\u5728\\u7269\\u6d41\\u3001\\u5916\\u9001\\u3001\\u7a7a\\u4e2d\\u8ba1\\u7a0b\\u8f66\\u7b49\\u9886\\u57df\\u7684\\u5e94\\u7528\\u5728\\u6df1\\u5733\\u7b49\\u4e2d\\u56fd\\u57ce\\u5e02\\u9010\\u6b65\\u843d\\u5730\\uff0c\\u4e2d\\u56fd\\u8fd1\\u5e74\\u5927\\u529b\\u63a8\\u8fdb\\u7684\\u201c\\u4f4e\\u7a7a\\u7ecf\\u6d4e\\u201d\\u6b63\\u84c4\\u52bf\\u5f85\\u53d1\\u3002\\u4e2d\\u56fd\\u56fd\\u5bb6\\u53d1\\u6539\\u59d4\\u8fd1\\u65e5\\u53d1\\u5e03\\u62a5\\u544a\\u79f0\\uff0c\\u4f4e\\u7a7a\\u7ecf\\u6d4e\\u6709\\u671b\\u6210\\u4e3a\\u4e07\\u4ebf\\u5143\\u7ea7\\u7684\\u65b0\\u7ecf\\u6d4e\\u8d5b\\u9053\\uff0c\\u5e76\\u9884\\u8ba1\\u65e0\\u4eba\\u673a\\u98de\\u624b\\u4eba\\u624d\\u7f3a\\u53e3\\u5c06\\u8fbe\\u767e\\u4e07\\u3002\\u7136\\u800c\\uff0c\\u4e1a\\u5185\\u4eba\\u58eb\\u4e0e\\u7f51\\u6c11\\u5bf9\\u6b64\\u53cd\\u5e94\\u4e0d\\u4e00\\uff0c\\u90e8\\u5206\\u4eba\\u770b\\u597d\\u5e02\\u573a\\u524d\\u666f\\uff0c\\u53e6\\u4e00\\u4e9b\\u4eba\\u5219\\u8d28\\u7591\\u5b9e\\u9645\\u5de5\\u4f5c\\u673a\\u4f1a\\u6709\\u9650\\u3002\\n\\n\\n\\n2025\\u5e742\\u67088\\u65e5#### \\u9999\\u6e2f\\u653f\\u5e9c\\u5411\\u4e16\\u8d38\\u7ec4\\u7ec7\\u63d0\\u51fa\\u7533\\u8bc9\\uff0c\\u79f0\\u7f8e\\u56fd\\u52a0\\u5f81\\u5173\\u7a0e\\u8fdd\\u53cd\\u4e16\\u8d38\\u89c4\\u5219 \\u9999\\u6e2f\\u653f\\u5e9c\\u5468\\u4e94(2\\u67087\\u65e5)\\u8868\\u793a\\uff0c\\u5c06\\u5c31\\u7f8e\\u56fd\\u5bf9\\u8fd9\\u4e2a\\u524d\\u82f1\\u56fd\\u6b96\\u6c11\\u5730\\u6700\\u8fd1\\u52a0\\u5f81\\u65b0\\u5173\\u7a0e\\u7684\\u505a\\u6cd5\\u5411\\u4e16\\u754c\\u8d38\\u6613\\u7ec4\\u7ec7\\u63d0\\u51fa\\u7533\\u8bc9\\u3002 [...] 2025\\u5e742\\u67087\\u65e5#### \\u4e2d\\u56fd\\u8dc3\\u5347ASML\\u6700\\u5927\\u5ba2\\u6237\\uff0cVOA\\u72ec\\u5bb6\\u63a2\\u8bbf\\u8377\\u5170\\u5149\\u523b\\u673a\\u5de8\\u5934\\u603b\\u90e8\\u6240\\u5728\\u5730 \\u6570\\u636e\\u663e\\u793a\\uff0c\\u4e2d\\u56fd\\u5df2\\u6210\\u4e3a\\u5168\\u7403\\u5149\\u523b\\u673a\\u5de8\\u5934\\u8377\\u5170\\u963f\\u65af\\u9ea6(ASML)\\u7684\\u6700\\u5927\\u5ba2\\u6237\\uff0c\\u4e5f\\u662f\\u5176\\u5149\\u523b\\u673a\\u7684\\u5934\\u53f7\\u4e70\\u5bb6\\u3002\\u6b64\\u524d\\uff0c\\u8377\\u5170\\u653f\\u5e9c\\u505a\\u51fa\\u653f\\u7b56\\u6539\\u53d8\\uff0c\\u6839\\u636e\\u76f8\\u5173\\u654f\\u611f\\u5546\\u4e1a\\u4fe1\\u606f\\u6cd5\\u89c4\\uff0c\\u628a\\u963f\\u65af\\u9ea6\\u6570\\u5341\\u4ebf\\u6b27\\u5143\\u7684\\u5bf9\\u534e\\u9500\\u552e\\u6392\\u9664\\u5728\\u654f\\u611f\\u5546\\u54c1\\u51fa\\u53e3\\u62ab\\u9732\\u4e4b\\u5916\\uff0c\\u5373\\u4e0d\\u518d\\u62ab\\u9732\\u5177\\u6709\\u6f5c\\u5728\\u519b\\u4e8b\\u7528\\u9014\\u7684\\u201c\\u519b\\u6c11\\u4e24\\u7528\\u201d\\u4ea7\\u54c1\\u7684\\u51fa\\u53e3\\u3002\\u963f\\u65af\\u9ea6\\u6f84\\u6e05\\u8bf4\\uff0c\\u5b83\\u5e76\\u6ca1\\u6709\\u51fa\\u53e3\\u5c5e\\u4e8e\\u519b\\u6c11\\u4e24\\u7528\\u7684\\u4ea7\\u54c1\\u3002\\u6709\\u5206\\u6790\\u4eba\\u58eb\\u8ba4\\u4e3a\\uff0c\\u7279\\u6717\\u666e\\u53ef\\u80fd\\u901a\\u8fc7\\u5173\\u7a0e\\u5bf9\\u8377\\u5170\\u653f\\u5e9c\\u65bd\\u538b\\uff0c\\u8981\\u6c42\\u6536\\u7d27\\u5bf9\\u534e\\u51fa\\u53e3\\u7ba1\\u5236\\uff0c\\u800c\\u963f\\u65af\\u9ea6\\u7684\\u5bf9\\u534e\\u8bbe\\u5907\\u51fa\\u53e3\\u53ef\\u4ee5\\u662f\\u8377\\u5170\\u653f\\u5e9c\\u624b\\u4e2d\\u7684\\u4e00\\u5f20\\u738b\\u724c\\u3002\\n\\n\\n\\n2025\\u5e742\\u67087\\u65e5#### \\u4e2d\\u56fd\\u5c31\\u7279\\u6717\\u666e\\u52a0\\u5f81\\u5173\\u7a0e\\u5411\\u4e16\\u8d38\\u7ec4\\u7ec7\\u7533\\u8bc9\\uff0c\\u767d\\u5bab\\u89c2\\u5bdf\\u6709\\u5173\\u52a8\\u6001 \\u767d\\u5bab\\u661f\\u671f\\u56db(2\\u67086\\u65e5)\\u8bf4\\uff0c\\u6b63\\u5728\\u5bc6\\u5207\\u5173\\u6ce8\\u7740\\u4e2d\\u56fd\\u5411\\u4e16\\u8d38\\u7ec4\\u7ec7\\u63d0\\u51fa\\u7684\\u7533\\u8bc9\\u3002\\u4e2d\\u56fd\\u6307\\u8d23\\u7f8e\\u56fd\\u5bf9\\u4e2d\\u56fd\\u5728\\u82ac\\u592a\\u5c3c\\u8d38\\u6613\\u4e2d\\u7684\\u4f5c\\u7528\\u8fdb\\u884c\\u201c\\u6beb\\u65e0\\u6839\\u636e\\u7684\\u865a\\u5047\\u6307\\u63a7\\u201d\\uff0c\\u4ee5\\u8bc1\\u660e\\u5bf9\\u4e2d\\u56fd\\u4ea7\\u54c1\\u5f81\\u6536\\u5173\\u7a0e\\u7684\\u5408\\u7406\\u6027\\u3002\", \"score\": 0.53648347}, {\"title\": \"\\u4e3b\\u9875- BBC News \\u4e2d\\u6587\", \"url\": \"https://www.bbc.com/zhongwen/simp\", \"content\": \"\\u7f8e\\u56fd\\u56fd\\u9645\\u5f00\\u53d1\\u7f72\\u662f\\u4ec0\\u4e48\\uff1f\\u4e3a\\u4ec0\\u4e48\\u7279\\u6717\\u666e\\u60f3\\u8981\\u5173\\u95ed\\u5b83\\uff1f\\n\\u7f8e\\u56fd\\u63f4\\u52a9\\u673a\\u6784\\u6bcf\\u5e74\\u82b1\\u8d39 400 \\u4ebf\\u7f8e\\u5143\\u7528\\u4e8e\\u4eba\\u9053\\u6551\\u63f4\\uff0c\\u4f46\\u5b83\\u7684\\u672a\\u6765\\u5374\\u5145\\u6ee1\\u7591\\u95ee\\u3002\\n2025\\u5e742\\u67087\\u65e5\\n\\n\\n\\n\\u7279\\u6717\\u666e\\u5236\\u88c1\\u56fd\\u9645\\u5211\\u4e8b\\u6cd5\\u9662\\uff0c\\u79f0\\u5176\\u201c\\u4e0d\\u5408\\u6cd5\\u201d\\n\\u7f8e\\u56fd\\u603b\\u7edf\\u7279\\u6717\\u666e\\u5728\\u4ee5\\u8272\\u5217\\u603b\\u7406\\u5185\\u5854\\u5c3c\\u4e9a\\u80e1\\u8bbf\\u95ee\\u534e\\u76db\\u987f\\u65f6\\u7b7e\\u7f72\\u4e86\\u4e00\\u9879\\u884c\\u653f\\u547d\\u4ee4\\uff0c\\u5236\\u88c1\\u56fd\\u9645\\u5211\\u4e8b\\u6cd5\\u9662\\uff0c\\u6307\\u8d23\\u5176\\u201c\\u9488\\u5bf9\\u7f8e\\u56fd\\u53ca\\u5176\\u4eb2\\u5bc6\\u76df\\u53cb\\u4ee5\\u8272\\u5217\\u91c7\\u53d6\\u975e\\u6cd5\\u548c\\u6beb\\u65e0\\u6839\\u636e\\u7684\\u884c\\u52a8\\u201d\\uff0c\\u8be5\\u63aa\\u65bd\\u5bf9\\u534f\\u52a9\\u56fd\\u9645\\u5211\\u4e8b\\u6cd5\\u9662\\u5bf9\\u7f8e\\u56fd\\u516c\\u6c11\\u6216\\u76df\\u53cb\\u8fdb\\u884c\\u8c03\\u67e5\\u7684\\u4e2a\\u4eba\\u53ca\\u5176\\u5bb6\\u4eba\\u5b9e\\u65bd\\u8d22\\u52a1\\u548c\\u7b7e\\u8bc1\\u9650\\u5236\\u3002\\n2025\\u5e742\\u67087\\u65e5\\n\\n\\nAdvertisement\\n\\u66f4\\u591a\\u65b0\\u95fb\\n\\n\\n\\n\\u4e0d\\u53ea\\u662fDeepSeek\\u2014\\u2014\\u4e2d\\u56fd\\u7684\\u5341\\u5e74\\u9ad8\\u79d1\\u6280\\u8ba1\\u5212\\u6b63\\u5728\\u53d6\\u5f97\\u6210\\u6548\\n2025\\u5e742\\u67087\\u65e5\\n\\n\\n\\n\\u9999\\u6e2f\\u9752\\u5e74\\u5b66\\u4f5b\\u53bb\\uff1a\\u5728\\u5145\\u6ee1\\u4e0d\\u786e\\u5b9a\\u7684\\u65f6\\u4ee3\\uff0c\\u4eba\\u603b\\u53ef\\u4ee5\\u56de\\u5f52\\u81ea\\u5df1\\n2025\\u5e742\\u67086\\u65e5\\n\\n\\n\\n\\u5206\\u6790\\uff1a\\u7279\\u6717\\u666e\\u201c\\u7f8e\\u56fd\\u63a5\\u6536\\u201d\\u52a0\\u6c99\\u7684\\u8ba1\\u5212\\u4e0d\\u53ef\\u80fd\\u53d1\\u751f \\u4f46\\u4f1a\\u9020\\u6210\\u540e\\u679c\\n2025\\u5e742\\u67086\\u65e5\\n\\n\\n\\n\\u5370\\u5ea6\\u5a92\\u4f53\\u52a0\\u5165\\u5bf9OpenAI\\u804a\\u5929\\u673a\\u5668\\u4ebaChatGPT\\u7684\\u8bc9\\u8bbc\\n2025\\u5e742\\u67086\\u65e5\\n\\n\\n\\n\\u5317\\u4eac\\u56de\\u51fb\\u7f8e\\u56fd\\u5173\\u7a0e\\uff0c\\u4e2d\\u7f8e\\u4e24\\u56fd\\u80fd\\u5426\\u907f\\u514d\\u8d38\\u6613\\u6218\\u5347\\u7ea7\\uff1f\\n2025\\u5e742\\u67085\\u65e5\\n\\n\\n\\n\\u82ac\\u592a\\u5c3c\\u662f\\u5982\\u4f55\\u8fdb\\u5165\\u7f8e\\u56fd\\u7684\\uff1f\\n2025\\u5e742\\u67085\\u65e5 [...] \\u7279\\u6717\\u666e\\u8ba1\\u5212\\u9063\\u9001\\u65e0\\u8bc1\\u79fb\\u6c11\\u5230\\u5173\\u5854\\u90a3\\u6469\\u6e7e\\uff0c\\u4f60\\u9700\\u8981\\u77e5\\u9053\\u7684\\u8981\\u70b9\\n2025\\u5e742\\u67085\\u65e5\\n\\n\\n\\n\\u7f8e\\u56fd\\u90ae\\u653f\\u6062\\u590d\\u6536\\u53d6\\u4e2d\\u56fd\\u53ca\\u9999\\u6e2f\\u5305\\u88f9\\n2025\\u5e742\\u67085\\u65e5\\n\\n\\n\\u5f71\\u7247\\n\\n\\n\\n7:03\\n\\u89c6\\u9891, \\u4e0d\\u53ea\\u662fDeepSeek\\uff1a\\u300a\\u4e2d\\u56fd\\u5236\\u90202025\\u300b\\u5982\\u4f55\\u8ba9\\u4e2d\\u56fd\\u5d1b\\u8d77, \\u8282\\u76ee\\u5168\\u957f 7,03\\n\\u4e2d\\u56fdAI\\u804a\\u5929\\u673a\\u5668\\u4ebaDeepSeek\\u5438\\u5f15\\u4e86\\u5168\\u4e16\\u754c\\u7684\\u76ee\\u5149\\u3002\\u9664\\u6b64\\u4e4b\\u5916\\uff0c\\u4ece\\u65e0\\u4eba\\u673a\\u5230\\u7535\\u52a8\\u6c7d\\u8f66\\uff0c\\u4e2d\\u56fd\\u5728\\u5176\\u4ed6\\u8bb8\\u591a\\u79d1\\u6280\\u9886\\u57df\\u4e5f\\u9010\\u6e10\\u6210\\u4e3a\\u4e3b\\u5bfc\\u8005\\u3002\\n2025\\u5e742\\u67087\\u65e5\\n\\n\\n\\n2:27\\n\\u89c6\\u9891, \\u201c\\u7eb9\\u8eab\\u5c5e\\u4e8e\\u975e\\u6cd5\\u201d\\uff1a\\u97e9\\u56fd\\u5973\\u6027\\u7eb9\\u8eab\\u5e08\\u547c\\u5401\\u6cd5\\u5f8b\\u53d8\\u9769, \\u8282\\u76ee\\u5168\\u957f 2,27\\n1992\\u5e74\\uff0c\\u97e9\\u56fd\\u5c06\\u7eb9\\u8eab\\u5217\\u5165\\u533b\\u7597\\u7a0b\\u5e8f\\uff0c\\u8fd9\\u610f\\u5473\\u7740\\u7eb9\\u8eab\\u827a\\u672f\\u5bb6\\u5728\\u97e9\\u56fd\\u5b9e\\u9645\\u4e0a\\u662f\\u975e\\u6cd5\\u5de5\\u4f5c\\u3002\\u8bb8\\u591a\\u5973\\u827a\\u672f\\u5bb6\\u8bf4\\uff0c\\u8fd9\\u79cd\\u60c5\\u51b5\\u4f7f\\u5979\\u4eec\\u5bb9\\u6613\\u53d7\\u5230\\u9a9a\\u6270\\u548c\\u8650\\u5f85\\u3002\\u73b0\\u5728\\uff0c\\u5979\\u4eec\\u547c\\u5401\\u4fee\\u6539\\u6cd5\\u5f8b\\u3002\\n2025\\u5e742\\u67084\\u65e5\\n\\n\\n\\n5:24\\n\\u89c6\\u9891, DeepSeek\\u5f02\\u519b\\u7a81\\u8d77\\uff1aAI\\u201c\\u9769\\u547d\\u201d\\u8fd8\\u662f\\u201c\\u7092\\u4f5c\\u201d\\uff1f, \\u8282\\u76ee\\u5168\\u957f 5,24\\n\\u4e2d\\u56fd\\u4eba\\u5de5\\u667a\\u80fd\\u804a\\u5929\\u4ea7\\u54c1\\u201cDeepSeek\\u201d\\u7684\\u63a8\\u51fa\\u6b63\\u503c\\u7f8e\\u56fd\\u603b\\u7edf\\u7279\\u6717\\u666e\\u91cd\\u8fd4\\u767d\\u5bab\\u7684\\u7b2c\\u4e00\\u5468\\uff0c\\u4e13\\u5bb6\\u5982\\u4f55\\u5206\\u6790\\u8fd9\\u573a\\u4e2d\\u7f8e\\u5f3a\\u5f3a\\u5bf9\\u5792\\uff1f\\u6211\\u4eec\\u4ece\\u6280\\u672f\\u7a81\\u7834\\u3001\\u5185\\u5bb9\\u5ba1\\u67e5\\u64cd\\u4f5c\\u53ca\\u201c\\u4e2d\\u56fd\\u4f18\\u52bf\\u201d\\u8bf4\\u8d77\\u3002\\n2025\\u5e742\\u67081\\u65e5 [...] \\u7f8e\\u56fd\\u8054\\u90a6\\u6cd5\\u5b98\\u4ee5\\u8fdd\\u5baa\\u4e3a\\u7531\\u53eb\\u505c\\u7279\\u6717\\u666e\\u5e9f\\u9664\\u201c\\u51fa\\u751f\\u516c\\u6c11\\u6743\\u201d\\u7684\\u884c\\u653f\\u4ee4\\n\\u8fd9\\u9879\\u884c\\u653f\\u4ee4\\u906d\\u523022\\u4e2a\\u5dde\\u548c\\u6c11\\u95f4\\u4eba\\u6743\\u56e2\\u4f53\\u8d77\\u8bc9\\uff0c\\u5176\\u4e2d\\u4e00\\u8d77\\u8bc9\\u8bbc\\u7531\\u4e9a\\u5229\\u6851\\u90a3\\u5dde\\u3001\\u4fc4\\u52d2\\u5188\\u5dde\\u3001\\u4f0a\\u5229\\u8bfa\\u5dde\\u548c\\u534e\\u76db\\u987f\\u5dde\\u8fd94\\u5dde\\u5171\\u540c\\u63d0\\u51fa\\u3002\\n2025\\u5e741\\u670824\\u65e5\\n\\n\\n\\n\\u7279\\u6717\\u666e\\u4fc3\\u6b27\\u4f69\\u514b\\u56fd\\u5bb6\\u4e00\\u8d77\\u538b\\u4f4e\\u6cb9\\u4ef7\\uff0c\\u5bc4\\u671b\\u501f\\u6b64\\u7ec8\\u7ed3\\u4fc4\\u4e4c\\u6218\\u4e89\\n\\u7279\\u6717\\u666e\\u8bf4\\uff1a\\u201c\\u76ee\\u524d\\u7684\\u6cb9\\u4ef7\\u8db3\\u591f\\u9ad8\\uff0c\\u8fd9\\u573a\\u6218\\u4e89\\u5c06\\u6301\\u7eed\\u4e0b\\u53bb\\u3002\\u201d\\u4ed6\\u63d0\\u5230\\u4fc4\\u4e4c\\u6218\\u4e89\\uff0c\\u5e76\\u6697\\u793a\\u9ad8\\u6cb9\\u4ef7\\u6709\\u52a9\\u4e8e\\u7ef4\\u6301\\u5bf9\\u83ab\\u65af\\u79d1\\u51b2\\u7a81\\u7684\\u8d44\\u91d1\\u652f\\u6301\\u3002\\n2025\\u5e741\\u670824\\u65e5\\n\\n\\n\\n\\u7279\\u6717\\u666e\\u544a\\u8bc9\\u666e\\u4eac\\u7ed3\\u675f\\u5728\\u4e4c\\u514b\\u5170\\u7684\\u201c\\u8352\\u8c2c\\u6218\\u4e89\\u201d\\u5426\\u5219\\u5c06\\u9762\\u4e34\\u65b0\\u5236\\u88c1\\n\\u7f8e\\u56fd\\u603b\\u7edf\\u8868\\u793a\\uff0c\\u901a\\u8fc7\\u5e2e\\u52a9\\u4fc4\\u7f57\\u65af\\u548c\\u4e4c\\u514b\\u5170\\u8fbe\\u6210\\u534f\\u8bae\\uff0c\\u4ed6\\u6b63\\u5728\\u4e3a\\u83ab\\u65af\\u79d1\\u505a\\u4e00\\u4ef6\\u201c\\u5927\\u597d\\u4e8b\\u201d\\u3002\\n2025\\u5e741\\u670823\\u65e5\\n\\n\\n\\n\\u7279\\u6717\\u666e\\u4e0b\\u4ee415\\u5929\\u5185\\u89e3\\u5bc6\\u6240\\u6709\\u80af\\u5c3c\\u8fea\\u5144\\u5f1f\\u548c\\u9a6c\\u4e01\\u00b7\\u8def\\u5fb7\\u00b7\\u91d1\\u9047\\u523a\\u76f8\\u5173\\u6863\\u6848\\n\\u4e0e\\u8c03\\u67e5\\u76f8\\u5173\\u7684\\u8bb8\\u591a\\u6587\\u4ef6\\u5728\\u8fd9\\u4e9b\\u5e74\\u4e2d\\u5df2\\u7ecf\\u88ab\\u516c\\u5f00\\uff0c\\u4f46\\u6709\\u6570\\u5343\\u4efd\\u6587\\u4ef6\\u8fdb\\u884c\\u4e86\\u5220\\u51cf\\uff0c\\u7279\\u522b\\u662f\\u4e0e\\u5e9e\\u5927\\u7684\\u80af\\u5c3c\\u8fea\\u8c03\\u67e5\\u6709\\u5173\\u7684\\u6587\\u4ef6\\u3002\\n2025\\u5e741\\u670824\\u65e5\\n\\n\\n\\u793e\\u4ea4\\u5a92\\u4f53\\n\\n\\n\\nFacebook - \\u7e41\\u4f53\\n\\n\\n\\nFacebook - \\u7b80\\u4f53\\n\\n\\n\\nX\\n\\n\\n\\nYouTube\\n\\n\\n\\nInstagram\\n\\n\\n\\u70ed\\u8bfb\\n\\n\\n1\\n\\u4e0d\\u53ea\\u662fDeepSeek\\u2014\\u2014\\u4e2d\\u56fd\\u7684\\u5341\\u5e74\\u9ad8\\u79d1\\u6280\\u8ba1\\u5212\\u6b63\\u5728\\u53d6\\u5f97\\u6210\\u6548\", \"score\": 0.53488034}]\n",
      "Assistant: 这里是一些最新的新闻：\n",
      "\n",
      "1. **美国之音中文网新闻**: 美国副总统J.D.万斯在华盛顿举办的2025年度“国际宗教自由峰会”上表示，特朗普政府将继续在国内外捍卫宗教自由，并在美国的外交政策中发挥重要作用。[阅读更多](https://www.voachinese.com/z/1739)\n",
      "\n",
      "2. **BBC News 中文**: 特朗普计划关闭美国国际开发署，称其为“非法”。美国总统特朗普在访问华盛顿时签署了一项行政命令，制裁国际刑事法院，指责其“针对美国及其亲密盟友采取非法和毫无根据的行动”。[阅读更多](https://www.bbc.com/zhongwen/simp)\n",
      "\n",
      "这些新闻涵盖了国际政治、经济和科技等多个领域。\n",
      "Goodbye!\n"
     ]
    }
   ],
   "execution_count": 28
  }
 ],
 "metadata": {
  "kernelspec": {
   "display_name": "Python 3",
   "language": "python",
   "name": "python3"
  },
  "language_info": {
   "codemirror_mode": {
    "name": "ipython",
    "version": 2
   },
   "file_extension": ".py",
   "mimetype": "text/x-python",
   "name": "python",
   "nbconvert_exporter": "python",
   "pygments_lexer": "ipython2",
   "version": "2.7.6"
  }
 },
 "nbformat": 4,
 "nbformat_minor": 5
}
